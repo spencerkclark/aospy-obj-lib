{
 "cells": [
  {
   "cell_type": "code",
   "execution_count": 26,
   "metadata": {
    "collapsed": false
   },
   "outputs": [],
   "source": [
    "import xray\n",
    "import interpolation as sint\n",
    "import matplotlib.pyplot as plt\n",
    "import numerics as shn\n",
    "import numpy as np\n",
    "%matplotlib inline"
   ]
  },
  {
   "cell_type": "code",
   "execution_count": 2,
   "metadata": {
    "collapsed": true
   },
   "outputs": [],
   "source": [
    "test = xray.open_dataset('/work/skc/itcz/am2_reyoi/am2_HadISST_control/precip/precip.01.av.from_monthly_ts_pressure.am2_reyoi.am2_HadISST_control.1983-1998.nc')"
   ]
  },
  {
   "cell_type": "code",
   "execution_count": 8,
   "metadata": {
    "collapsed": true
   },
   "outputs": [],
   "source": [
    "dprecip = shn.d_dy_from_lat(test.precip.mean('lon'), 6.371e6, vec_field=False)"
   ]
  },
  {
   "cell_type": "code",
   "execution_count": 9,
   "metadata": {
    "collapsed": true
   },
   "outputs": [],
   "source": [
    "extrema = sint.zeros_xray(dprecip, 'lat')"
   ]
  },
  {
   "cell_type": "code",
   "execution_count": 16,
   "metadata": {
    "collapsed": false
   },
   "outputs": [],
   "source": [
    "zs = extrema.dropna('lat')"
   ]
  },
  {
   "cell_type": "code",
   "execution_count": 18,
   "metadata": {
    "collapsed": false
   },
   "outputs": [
    {
     "data": {
      "image/png": "[encoded data removed]",
      "text/plain": [
       "<matplotlib.figure.Figure at 0x7f94cebef690>"
      ]
     },
     "metadata": {},
     "output_type": "display_data"
    }
   ],
   "source": [
    "plt.plot(test.precip.lat.values, test.precip.mean('lon'))\n",
    "for zero in zs.values:\n",
    "    plt.gca().axvline(zero, color='k')"
   ]
  },
  {
   "cell_type": "code",
   "execution_count": 7,
   "metadata": {
    "collapsed": false
   },
   "outputs": [
    {
     "data": {
      "text/plain": [
       "[<matplotlib.lines.Line2D at 0x7f94e069d6d0>]"
      ]
     },
     "execution_count": 7,
     "metadata": {},
     "output_type": "execute_result"
    },
    {
     "data": {
      "image/png": "[encoded data removed]",
      "text/plain": [
       "<matplotlib.figure.Figure at 0x7f94e8b7b790>"
      ]
     },
     "metadata": {},
     "output_type": "display_data"
    }
   ],
   "source": [
    "plt.plot(shn.d_dy_from_lat(test.precip.mean('lon'), 6.371e6, vec_field=False))"
   ]
  },
  {
   "cell_type": "code",
   "execution_count": 2,
   "metadata": {
    "collapsed": false
   },
   "outputs": [],
   "source": [
    "test = xray.open_dataset('/work/skc/itcz/am2_reyoi/am2_reyoi_extratropics_sp_SI/precip/precip.ann.ts.from_monthly_ts_pressure.am2_reyoi.am2_reyoi_extratropics_sp_SI.1983-1998.nc')"
   ]
  },
  {
   "cell_type": "code",
   "execution_count": 3,
   "metadata": {
    "collapsed": false
   },
   "outputs": [
    {
     "data": {
      "text/plain": [
       "0"
      ]
     },
     "execution_count": 3,
     "metadata": {},
     "output_type": "execute_result"
    }
   ],
   "source": [
    "test.precip.get_axis_num('year')"
   ]
  },
  {
   "cell_type": "code",
   "execution_count": 3,
   "metadata": {
    "collapsed": false
   },
   "outputs": [],
   "source": [
    "t5 = test['precip'] - test.precip.mean()"
   ]
  },
  {
   "cell_type": "code",
   "execution_count": 4,
   "metadata": {
    "collapsed": false
   },
   "outputs": [
    {
     "data": {
      "text/plain": [
       "<xray.DataArray 'precip' (year: 16, lat: 90, lon: 144)>\n",
       "array([[[ -2.54079677e-05,  -2.54080287e-05,  -2.54079118e-05, ...,\n",
       "          -2.54082754e-05,  -2.54081985e-05,  -2.54082882e-05],\n",
       "        [ -2.56077924e-05,  -2.56342045e-05,  -2.56704022e-05, ...,\n",
       "          -2.55243400e-05,  -2.55504438e-05,  -2.55757861e-05],\n",
       "        [ -2.54111244e-05,  -2.55204752e-05,  -2.56337671e-05, ...,\n",
       "          -2.50730018e-05,  -2.51850301e-05,  -2.52884768e-05],\n",
       "        ..., \n",
       "        [ -1.98298609e-05,  -1.97587700e-05,  -1.96967015e-05, ...,\n",
       "          -2.01422271e-05,  -1.99972145e-05,  -1.98935977e-05],\n",
       "        [ -1.94901834e-05,  -1.94292339e-05,  -1.93666807e-05, ...,\n",
       "          -1.96638316e-05,  -1.95825484e-05,  -1.95420866e-05],\n",
       "        [ -2.06272426e-05,  -2.06276508e-05,  -2.06324930e-05, ...,\n",
       "          -2.06328405e-05,  -2.06272466e-05,  -2.06272502e-05]],\n",
       "\n",
       "       [[ -2.55449084e-05,  -2.55448939e-05,  -2.55448505e-05, ...,\n",
       "          -2.55451345e-05,  -2.55450642e-05,  -2.55451976e-05],\n",
       "        [ -2.58366093e-05,  -2.58624935e-05,  -2.58832729e-05, ...,\n",
       "          -2.57880015e-05,  -2.58006782e-05,  -2.58245064e-05],\n",
       "        [ -2.55775314e-05,  -2.56663461e-05,  -2.57428403e-05, ...,\n",
       "          -2.53243445e-05,  -2.54126783e-05,  -2.55018973e-05],\n",
       "        ..., \n",
       "        [ -2.12444566e-05,  -2.12529474e-05,  -2.12505359e-05, ...,\n",
       "          -2.14107530e-05,  -2.13500494e-05,  -2.12881309e-05],\n",
       "        [ -2.08180478e-05,  -2.08090923e-05,  -2.07794428e-05, ...,\n",
       "          -2.09286169e-05,  -2.08913170e-05,  -2.08644181e-05],\n",
       "        [ -2.14781953e-05,  -2.14784612e-05,  -2.14785669e-05, ...,\n",
       "          -2.14789500e-05,  -2.14785729e-05,  -2.14782058e-05]],\n",
       "\n",
       "       [[ -2.57798280e-05,  -2.57797532e-05,  -2.57796905e-05, ...,\n",
       "          -2.57799887e-05,  -2.57799092e-05,  -2.57797660e-05],\n",
       "        [ -2.59981416e-05,  -2.60097664e-05,  -2.60232613e-05, ...,\n",
       "          -2.59458809e-05,  -2.59641084e-05,  -2.59816901e-05],\n",
       "        [ -2.56225351e-05,  -2.57034639e-05,  -2.57742726e-05, ...,\n",
       "          -2.53970242e-05,  -2.54757444e-05,  -2.55510394e-05],\n",
       "        ..., \n",
       "        [ -2.03115917e-05,  -2.01819571e-05,  -2.00060034e-05, ...,\n",
       "          -2.05326736e-05,  -2.04717400e-05,  -2.03866922e-05],\n",
       "        [ -2.01535579e-05,  -2.00319942e-05,  -1.99125502e-05, ...,\n",
       "          -2.04277366e-05,  -2.03613933e-05,  -2.02553597e-05],\n",
       "        [ -2.24226261e-05,  -2.24230913e-05,  -2.24250861e-05, ...,\n",
       "          -2.24248981e-05,  -2.24226822e-05,  -2.24225830e-05]],\n",
       "\n",
       "       ..., \n",
       "       [[ -2.55321399e-05,  -2.55320571e-05,  -2.55319738e-05, ...,\n",
       "          -2.55325192e-05,  -2.55324682e-05,  -2.55325184e-05],\n",
       "        [ -2.59918962e-05,  -2.59914055e-05,  -2.59975459e-05, ...,\n",
       "          -2.59859350e-05,  -2.59936816e-05,  -2.59941662e-05],\n",
       "        [ -2.55543384e-05,  -2.56400563e-05,  -2.57081855e-05, ...,\n",
       "          -2.53678118e-05,  -2.54334638e-05,  -2.54864851e-05],\n",
       "        ..., \n",
       "        [ -2.05866129e-05,  -2.04344292e-05,  -2.01420743e-05, ...,\n",
       "          -2.11413886e-05,  -2.09717050e-05,  -2.07480885e-05],\n",
       "        [ -2.13257362e-05,  -2.12397940e-05,  -2.11353897e-05, ...,\n",
       "          -2.15232703e-05,  -2.14734665e-05,  -2.13902415e-05],\n",
       "        [ -2.27096338e-05,  -2.27109108e-05,  -2.27165855e-05, ...,\n",
       "          -2.27162767e-05,  -2.27100104e-05,  -2.27096444e-05]],\n",
       "\n",
       "       [[ -2.53658393e-05,  -2.53658484e-05,  -2.53658149e-05, ...,\n",
       "          -2.53660581e-05,  -2.53659994e-05,  -2.53661428e-05],\n",
       "        [ -2.52777686e-05,  -2.53185008e-05,  -2.53558661e-05, ...,\n",
       "          -2.51811494e-05,  -2.52174793e-05,  -2.52480629e-05],\n",
       "        [ -2.49882161e-05,  -2.51333125e-05,  -2.52639386e-05, ...,\n",
       "          -2.45290520e-05,  -2.46804728e-05,  -2.48265839e-05],\n",
       "        ..., \n",
       "        [ -2.01146648e-05,  -2.00593102e-05,  -2.00287662e-05, ...,\n",
       "          -2.01781912e-05,  -2.01784366e-05,  -2.01546767e-05],\n",
       "        [ -2.04570163e-05,  -2.04705502e-05,  -2.04428343e-05, ...,\n",
       "          -2.05125818e-05,  -2.04946073e-05,  -2.04834267e-05],\n",
       "        [ -2.20981738e-05,  -2.20981698e-05,  -2.21028391e-05, ...,\n",
       "          -2.21009951e-05,  -2.20983821e-05,  -2.20981654e-05]],\n",
       "\n",
       "       [[ -2.57293468e-05,  -2.57293336e-05,  -2.57292944e-05, ...,\n",
       "          -2.57298259e-05,  -2.57297925e-05,  -2.57300641e-05],\n",
       "        [ -2.56639757e-05,  -2.56660503e-05,  -2.56782048e-05, ...,\n",
       "          -2.56115645e-05,  -2.56276218e-05,  -2.56428623e-05],\n",
       "        [ -2.50656523e-05,  -2.51777761e-05,  -2.53063844e-05, ...,\n",
       "          -2.47070272e-05,  -2.48189439e-05,  -2.49412443e-05],\n",
       "        ..., \n",
       "        [ -1.99268377e-05,  -1.98527753e-05,  -1.98320138e-05, ...,\n",
       "          -2.03770570e-05,  -2.01659545e-05,  -2.00197981e-05],\n",
       "        [ -2.08204095e-05,  -2.07136786e-05,  -2.06431064e-05, ...,\n",
       "          -2.12370643e-05,  -2.10931169e-05,  -2.09565377e-05],\n",
       "        [ -2.25677227e-05,  -2.25677283e-05,  -2.25682903e-05, ...,\n",
       "          -2.25680448e-05,  -2.25677206e-05,  -2.25677500e-05]]])\n",
       "Coordinates:\n",
       "  * year     (year) int32 1983 1984 1985 1986 1987 1988 1989 1990 1991 1992 ...\n",
       "  * lat      (lat) float64 -89.49 -87.98 -85.96 -83.93 -81.91 -79.89 -77.87 ...\n",
       "  * lon      (lon) float64 1.25 3.75 6.25 8.75 11.25 13.75 16.25 18.75 21.25 ..."
      ]
     },
     "execution_count": 4,
     "metadata": {},
     "output_type": "execute_result"
    }
   ],
   "source": [
    "t5.reset_coords(drop=True)"
   ]
  },
  {
   "cell_type": "code",
   "execution_count": 11,
   "metadata": {
    "collapsed": false
   },
   "outputs": [
    {
     "data": {
      "text/plain": [
       "0"
      ]
     },
     "execution_count": 11,
     "metadata": {},
     "output_type": "execute_result"
    }
   ],
   "source": [
    "t5.get_axis_num('year')"
   ]
  },
  {
   "cell_type": "code",
   "execution_count": 10,
   "metadata": {
    "collapsed": false
   },
   "outputs": [
    {
     "data": {
      "text/plain": [
       "Coordinates:\n",
       "  * lon      (lon) float64 1.25 3.75 6.25 8.75 11.25 13.75 16.25 18.75 21.25 ...\n",
       "  * lat      (lat) float64 -89.49 -87.98 -85.96 -83.93 -81.91 -79.89 -77.87 ...\n",
       "  * year     (year) int32 1983 1984 1985 1986 1987 1988 1989 1990 1991 1992 ..."
      ]
     },
     "execution_count": 10,
     "metadata": {},
     "output_type": "execute_result"
    }
   ],
   "source": [
    "test.reset_coords().coords"
   ]
  },
  {
   "cell_type": "code",
   "execution_count": 9,
   "metadata": {
    "collapsed": false
   },
   "outputs": [
    {
     "data": {
      "text/plain": [
       "Coordinates:\n",
       "  * lon      (lon) float64 1.25 3.75 6.25 8.75 11.25 13.75 16.25 18.75 21.25 ...\n",
       "  * year     (year) int32 1983 1984 1985 1986 1987 1988 1989 1990 1991 1992 ...\n",
       "  * lat      (lat) float64 -89.49 -87.98 -85.96 -83.93 -81.91 -79.89 -77.87 ..."
      ]
     },
     "execution_count": 9,
     "metadata": {},
     "output_type": "execute_result"
    }
   ],
   "source": [
    "t5.reset_coords().coords"
   ]
  },
  {
   "cell_type": "code",
   "execution_count": 18,
   "metadata": {
    "collapsed": false
   },
   "outputs": [],
   "source": [
    "order = {coord : test.precip.get_axis_num(coord) for coord in test.precip.reset_coords().coords}"
   ]
  },
  {
   "cell_type": "code",
   "execution_count": 23,
   "metadata": {
    "collapsed": false
   },
   "outputs": [],
   "source": [
    "L = sorted(order.items(), key=lambda (k, v): v)"
   ]
  },
  {
   "cell_type": "code",
   "execution_count": 27,
   "metadata": {
    "collapsed": false
   },
   "outputs": [
    {
     "data": {
      "text/plain": [
       "(u'year', u'lat', u'lon')"
      ]
     },
     "execution_count": 27,
     "metadata": {},
     "output_type": "execute_result"
    }
   ],
   "source": [
    "zip(*L)[0]"
   ]
  },
  {
   "cell_type": "code",
   "execution_count": 11,
   "metadata": {
    "collapsed": false
   },
   "outputs": [
    {
     "data": {
      "text/plain": [
       "(16, 90, 144)"
      ]
     },
     "execution_count": 11,
     "metadata": {},
     "output_type": "execute_result"
    }
   ],
   "source": [
    "t5.values.shape"
   ]
  },
  {
   "cell_type": "code",
   "execution_count": 5,
   "metadata": {
    "collapsed": false
   },
   "outputs": [
    {
     "data": {
      "text/plain": [
       "<xray.DataArray (year: 16, lat: 360, lon: 144)>\n",
       "array([[[ -2.54079677e-05,  -2.54080287e-05,  -2.54079118e-05, ...,\n",
       "          -2.54082754e-05,  -2.54081985e-05,  -2.54082882e-05],\n",
       "        [ -2.54736482e-05,  -2.54823706e-05,  -2.54941900e-05, ...,\n",
       "          -2.54464248e-05,  -2.54549532e-05,  -2.54633432e-05],\n",
       "        [ -2.55393288e-05,  -2.55567125e-05,  -2.55804682e-05, ...,\n",
       "          -2.54845741e-05,  -2.55017079e-05,  -2.55183982e-05],\n",
       "        ..., \n",
       "        [ -1.98797608e-05,  -1.98398336e-05,  -1.98003713e-05, ...,\n",
       "          -1.99958319e-05,  -1.99404812e-05,  -1.99138836e-05],\n",
       "        [ -2.02535017e-05,  -2.02337422e-05,  -2.02164321e-05, ...,\n",
       "          -2.03143362e-05,  -2.02838639e-05,  -2.02705669e-05],\n",
       "        [ -2.06272426e-05,  -2.06276508e-05,  -2.06324930e-05, ...,\n",
       "          -2.06328405e-05,  -2.06272466e-05,  -2.06272502e-05]],\n",
       "\n",
       "       [[ -2.55449084e-05,  -2.55448939e-05,  -2.55448505e-05, ...,\n",
       "          -2.55451345e-05,  -2.55450642e-05,  -2.55451976e-05],\n",
       "        [ -2.56407878e-05,  -2.56492860e-05,  -2.56560869e-05, ...,\n",
       "          -2.56249626e-05,  -2.56290822e-05,  -2.56370038e-05],\n",
       "        [ -2.57366672e-05,  -2.57536780e-05,  -2.57673232e-05, ...,\n",
       "          -2.57047908e-05,  -2.57131001e-05,  -2.57288100e-05],\n",
       "        ..., \n",
       "        [ -2.10442265e-05,  -2.10384304e-05,  -2.10189756e-05, ...,\n",
       "          -2.11171711e-05,  -2.10925217e-05,  -2.10747131e-05],\n",
       "        [ -2.12612109e-05,  -2.12584458e-05,  -2.12487713e-05, ...,\n",
       "          -2.12980606e-05,  -2.12855473e-05,  -2.12764594e-05],\n",
       "        [ -2.14781953e-05,  -2.14784612e-05,  -2.14785669e-05, ...,\n",
       "          -2.14789500e-05,  -2.14785729e-05,  -2.14782058e-05]],\n",
       "\n",
       "       [[ -2.57798280e-05,  -2.57797532e-05,  -2.57796905e-05, ...,\n",
       "          -2.57799887e-05,  -2.57799092e-05,  -2.57797660e-05],\n",
       "        [ -2.58515857e-05,  -2.58553564e-05,  -2.58597500e-05, ...,\n",
       "          -2.58345159e-05,  -2.58404538e-05,  -2.58461366e-05],\n",
       "        [ -2.59233433e-05,  -2.59309596e-05,  -2.59398095e-05, ...,\n",
       "          -2.58890432e-05,  -2.59009984e-05,  -2.59125072e-05],\n",
       "        ..., \n",
       "        [ -2.09309824e-05,  -2.08512280e-05,  -2.07733912e-05, ...,\n",
       "          -2.11120008e-05,  -2.10676288e-05,  -2.09978902e-05],\n",
       "        [ -2.16768042e-05,  -2.16371597e-05,  -2.15992386e-05, ...,\n",
       "          -2.17684494e-05,  -2.17451555e-05,  -2.17102366e-05],\n",
       "        [ -2.24226261e-05,  -2.24230913e-05,  -2.24250861e-05, ...,\n",
       "          -2.24248981e-05,  -2.24226822e-05,  -2.24225830e-05]],\n",
       "\n",
       "       ..., \n",
       "       [[ -2.55321399e-05,  -2.55320571e-05,  -2.55319738e-05, ...,\n",
       "          -2.55325192e-05,  -2.55324682e-05,  -2.55325184e-05],\n",
       "        [ -2.56832576e-05,  -2.56830407e-05,  -2.56850031e-05, ...,\n",
       "          -2.56815528e-05,  -2.56840648e-05,  -2.56842578e-05],\n",
       "        [ -2.58343753e-05,  -2.58340243e-05,  -2.58380324e-05, ...,\n",
       "          -2.58305864e-05,  -2.58356614e-05,  -2.58359972e-05],\n",
       "        ..., \n",
       "        [ -2.17998850e-05,  -2.17438257e-05,  -2.16771364e-05, ...,\n",
       "          -2.19320162e-05,  -2.18971292e-05,  -2.18422932e-05],\n",
       "        [ -2.22547594e-05,  -2.22273682e-05,  -2.21968610e-05, ...,\n",
       "          -2.23241464e-05,  -2.23035698e-05,  -2.22759688e-05],\n",
       "        [ -2.27096338e-05,  -2.27109108e-05,  -2.27165855e-05, ...,\n",
       "          -2.27162767e-05,  -2.27100104e-05,  -2.27096444e-05]],\n",
       "\n",
       "       [[ -2.53658393e-05,  -2.53658484e-05,  -2.53658149e-05, ...,\n",
       "          -2.53660581e-05,  -2.53659994e-05,  -2.53661428e-05],\n",
       "        [ -2.53368913e-05,  -2.53502857e-05,  -2.53625448e-05, ...,\n",
       "          -2.53052803e-05,  -2.53171822e-05,  -2.53273311e-05],\n",
       "        [ -2.53079433e-05,  -2.53347229e-05,  -2.53592747e-05, ...,\n",
       "          -2.52445025e-05,  -2.52683650e-05,  -2.52885193e-05],\n",
       "        ..., \n",
       "        [ -2.10193071e-05,  -2.10282026e-05,  -2.10115825e-05, ...,\n",
       "          -2.10568014e-05,  -2.10440900e-05,  -2.10366659e-05],\n",
       "        [ -2.15587405e-05,  -2.15631862e-05,  -2.15572108e-05, ...,\n",
       "          -2.15788983e-05,  -2.15712361e-05,  -2.15674156e-05],\n",
       "        [ -2.20981738e-05,  -2.20981698e-05,  -2.21028391e-05, ...,\n",
       "          -2.21009951e-05,  -2.20983821e-05,  -2.20981654e-05]],\n",
       "\n",
       "       [[ -2.57293468e-05,  -2.57293336e-05,  -2.57292944e-05, ...,\n",
       "          -2.57298259e-05,  -2.57297925e-05,  -2.57300641e-05],\n",
       "        [ -2.57078599e-05,  -2.57085330e-05,  -2.57125017e-05, ...,\n",
       "          -2.56909544e-05,  -2.56962099e-05,  -2.57014017e-05],\n",
       "        [ -2.56863730e-05,  -2.56877323e-05,  -2.56957090e-05, ...,\n",
       "          -2.56520830e-05,  -2.56626273e-05,  -2.56727393e-05],\n",
       "        ..., \n",
       "        [ -2.14190711e-05,  -2.13489101e-05,  -2.13027098e-05, ...,\n",
       "          -2.16930827e-05,  -2.15983432e-05,  -2.15085687e-05],\n",
       "        [ -2.19933969e-05,  -2.19583192e-05,  -2.19355001e-05, ...,\n",
       "          -2.21305637e-05,  -2.20830319e-05,  -2.20381593e-05],\n",
       "        [ -2.25677227e-05,  -2.25677283e-05,  -2.25682903e-05, ...,\n",
       "          -2.25680448e-05,  -2.25677206e-05,  -2.25677500e-05]]])\n",
       "Coordinates:\n",
       "  * year     (year) int32 1983 1984 1985 1986 1987 1988 1989 1990 1991 1992 ...\n",
       "  * lat      (lat) float64 -89.49 -89.0 -88.5 -88.0 -87.5 -87.0 -86.5 -86.0 ...\n",
       "  * lon      (lon) float64 1.25 3.75 6.25 8.75 11.25 13.75 16.25 18.75 21.25 ..."
      ]
     },
     "execution_count": 5,
     "metadata": {},
     "output_type": "execute_result"
    }
   ],
   "source": [
    "sint.interp1d_xray(t5, 'lat', 360)"
   ]
  },
  {
   "cell_type": "code",
   "execution_count": null,
   "metadata": {
    "collapsed": true
   },
   "outputs": [],
   "source": []
  },
  {
   "cell_type": "code",
   "execution_count": 30,
   "metadata": {
    "collapsed": false
   },
   "outputs": [
    {
     "data": {
      "text/plain": [
       "<xray.DataArray (year: 16, lat: 90, lon: 40)>\n",
       "array([[[  1.54512533e-06,   1.54529948e-06,   1.54511208e-06, ...,\n",
       "           1.54428892e-06,   1.54476867e-06,   1.54480487e-06],\n",
       "        [  1.34530072e-06,   1.23034933e-06,   1.15943487e-06, ...,\n",
       "           1.57805011e-06,   1.48206835e-06,   1.37730699e-06],\n",
       "        [  1.54196863e-06,   1.18240282e-06,   1.00490786e-06, ...,\n",
       "           2.41402715e-06,   2.08490139e-06,   1.66461623e-06],\n",
       "        ..., \n",
       "        [  7.12323216e-06,   7.23564957e-06,   7.08027278e-06, ...,\n",
       "           6.59576461e-06,   6.73023820e-06,   7.05949534e-06],\n",
       "        [  7.46290964e-06,   7.64963842e-06,   7.82982175e-06, ...,\n",
       "           6.97997136e-06,   7.23816247e-06,   7.41100642e-06],\n",
       "        [  6.32585043e-06,   6.31585184e-06,   6.31047872e-06, ...,\n",
       "           6.32891135e-06,   6.31547179e-06,   6.32584285e-06]],\n",
       "\n",
       "       [[  1.40818466e-06,   1.40840075e-06,   1.40856806e-06, ...,\n",
       "           1.40691862e-06,   1.40787192e-06,   1.40789551e-06],\n",
       "        [  1.11648378e-06,   1.04280906e-06,   1.00076437e-06, ...,\n",
       "           1.28617063e-06,   1.20367558e-06,   1.12858670e-06],\n",
       "        [  1.37556167e-06,   1.08108330e-06,   9.09693668e-07, ...,\n",
       "           1.93828503e-06,   1.76644882e-06,   1.45119580e-06],\n",
       "        ..., \n",
       "        [  5.70863650e-06,   5.67171496e-06,   6.04686170e-06, ...,\n",
       "           5.34343909e-06,   5.45924372e-06,   5.66496215e-06],\n",
       "        [  6.13504526e-06,   6.22382609e-06,   6.35691902e-06, ...,\n",
       "           5.90193400e-06,   5.95142980e-06,   6.08867495e-06],\n",
       "        [  5.47489778e-06,   5.47241862e-06,   5.46936162e-06, ...,\n",
       "           5.47469883e-06,   5.47185590e-06,   5.47488727e-06]],\n",
       "\n",
       "       [[  1.17326505e-06,   1.17350305e-06,   1.17361514e-06, ...,\n",
       "           1.17324759e-06,   1.17300108e-06,   1.17332705e-06],\n",
       "        [  9.54951516e-07,   9.08079443e-07,   8.73534281e-07, ...,\n",
       "           1.12283320e-06,   1.04100661e-06,   9.71402925e-07],\n",
       "        [  1.33055796e-06,   1.08483402e-06,   9.24670510e-07, ...,\n",
       "           1.87554948e-06,   1.68515497e-06,   1.40205370e-06],\n",
       "        ..., \n",
       "        [  6.64150134e-06,   7.26546541e-06,   7.48252300e-06, ...,\n",
       "           6.08608114e-06,   6.32158410e-06,   6.56640085e-06],\n",
       "        [  6.79953513e-06,   7.15855769e-06,   7.24205799e-06, ...,\n",
       "           6.26986938e-06,   6.45270133e-06,   6.69773337e-06],\n",
       "        [  4.53046699e-06,   4.52611234e-06,   4.52377515e-06, ...,\n",
       "           4.54179725e-06,   4.53115438e-06,   4.53051007e-06]],\n",
       "\n",
       "       ..., \n",
       "       [[  1.42095319e-06,   1.42123406e-06,   1.42154175e-06, ...,\n",
       "           1.42006949e-06,   1.42051953e-06,   1.42057470e-06],\n",
       "        [  9.61196840e-07,   9.38395515e-07,   9.27070867e-07, ...,\n",
       "           1.00502080e-06,   9.83779880e-07,   9.58926836e-07],\n",
       "        [  1.39875471e-06,   1.15205197e-06,   9.92229860e-07, ...,\n",
       "           1.76508009e-06,   1.68466065e-06,   1.46660792e-06],\n",
       "        ..., \n",
       "        [  6.36648014e-06,   7.31706004e-06,   7.90273962e-06, ...,\n",
       "           5.37270191e-06,   5.62248298e-06,   6.20500454e-06],\n",
       "        [  5.62735686e-06,   6.01520445e-06,   6.40546491e-06, ...,\n",
       "           5.05003568e-06,   5.32379262e-06,   5.56285157e-06],\n",
       "        [  4.24345925e-06,   4.23562125e-06,   4.23504884e-06, ...,\n",
       "           4.22650725e-06,   4.22917638e-06,   4.24344864e-06]],\n",
       "\n",
       "       [[  1.58725374e-06,   1.58740732e-06,   1.58753616e-06, ...,\n",
       "           1.58641386e-06,   1.58699176e-06,   1.58695022e-06],\n",
       "        [  1.67532444e-06,   1.55007001e-06,   1.44833552e-06, ...,\n",
       "           1.96044811e-06,   1.83500457e-06,   1.70503016e-06],\n",
       "        [  1.96487697e-06,   1.52082513e-06,   1.31551908e-06, ...,\n",
       "           3.26181429e-06,   2.70613652e-06,   2.12650920e-06],\n",
       "        ..., \n",
       "        [  6.83842827e-06,   7.10600459e-06,   7.14158073e-06, ...,\n",
       "           6.54955048e-06,   6.71115351e-06,   6.79841639e-06],\n",
       "        [  6.49607674e-06,   6.53333607e-06,   6.70215013e-06, ...,\n",
       "           6.26270676e-06,   6.38008056e-06,   6.46966635e-06],\n",
       "        [  4.85491922e-06,   4.84571376e-06,   4.84282909e-06, ...,\n",
       "           4.85554558e-06,   4.85083135e-06,   4.85492768e-06]],\n",
       "\n",
       "       [[  1.22374626e-06,   1.22408517e-06,   1.22429439e-06, ...,\n",
       "           1.22255096e-06,   1.22327028e-06,   1.22302898e-06],\n",
       "        [  1.28911739e-06,   1.24212342e-06,   1.18621282e-06, ...,\n",
       "           1.40719054e-06,   1.36828053e-06,   1.31023074e-06],\n",
       "        [  1.88744079e-06,   1.48444671e-06,   1.24007989e-06, ...,\n",
       "           2.68670470e-06,   2.44985506e-06,   2.01184878e-06],\n",
       "        ..., \n",
       "        [  7.02625535e-06,   7.08183004e-06,   6.64537328e-06, ...,\n",
       "           5.38447552e-06,   6.20860906e-06,   6.93329497e-06],\n",
       "        [  6.13268359e-06,   6.40160041e-06,   6.40989871e-06, ...,\n",
       "           4.95265916e-06,   5.44389387e-06,   5.99655538e-06],\n",
       "        [  4.38537037e-06,   4.38399058e-06,   4.38294662e-06, ...,\n",
       "           4.39339725e-06,   4.38826011e-06,   4.38534305e-06]]])\n",
       "Coordinates:\n",
       "  * year     (year) int32 1983 1984 1985 1986 1987 1988 1989 1990 1991 1992 ...\n",
       "  * lat      (lat) float64 -89.49 -87.98 -85.96 -83.93 -81.91 -79.89 -77.87 ...\n",
       "  * lon      (lon) float64 1.25 10.42 19.58 28.75 37.92 47.08 56.25 65.42 ..."
      ]
     },
     "execution_count": 30,
     "metadata": {},
     "output_type": "execute_result"
    }
   ],
   "source": [
    "sint.interp1d_xray(test['precip'], 'lon', 40)"
   ]
  },
  {
   "cell_type": "code",
   "execution_count": 5,
   "metadata": {
    "collapsed": false
   },
   "outputs": [],
   "source": [
    "t2 = sint.zeros_xray(test['precip'].mean('lon') - test['precip'].mean('lat').mean('lon'), 'lat')"
   ]
  },
  {
   "cell_type": "code",
   "execution_count": 6,
   "metadata": {
    "collapsed": false
   },
   "outputs": [],
   "source": [
    "t3 = t2.dropna('lat')"
   ]
  },
  {
   "cell_type": "code",
   "execution_count": 7,
   "metadata": {
    "collapsed": false
   },
   "outputs": [
    {
     "data": {
      "text/plain": [
       "<matplotlib.lines.Line2D at 0x7f8b3bbc6f90>"
      ]
     },
     "execution_count": 7,
     "metadata": {},
     "output_type": "execute_result"
    },
    {
     "data": {
      "image/png": "[encoded data removed]",
      "text/plain": [
       "<matplotlib.figure.Figure at 0x7f8b4720af90>"
      ]
     },
     "metadata": {},
     "output_type": "display_data"
    }
   ],
   "source": [
    "plt.plot(test['precip'].lat, test['precip'].mean('lon') - test['precip'].mean('lat').mean('lon'))\n",
    "plt.axvline(t3[0], color='k')\n",
    "plt.axvline(t3[1], color='k')\n",
    "plt.axvline(t3[2], color='k')\n",
    "plt.axvline(t3[3], color='k')\n",
    "plt.axhline(sint.interp1d_pt_xray(test['precip'].mean('lon') - test['precip'].mean('lat').mean('lon'), 'lat', 0.0))\n",
    "plt.axhline(0.0)"
   ]
  },
  {
   "cell_type": "code",
   "execution_count": 3,
   "metadata": {
    "collapsed": false
   },
   "outputs": [
    {
     "data": {
      "text/plain": [
       "<xray.DataArray ()>\n",
       "array(3.1593605704004647e-05)\n",
       "Coordinates:\n",
       "    lat      float64 0.0"
      ]
     },
     "execution_count": 3,
     "metadata": {},
     "output_type": "execute_result"
    }
   ],
   "source": [
    "sint.interp1d_pt_xray(test['precip'].mean('lon') - test['precip'].mean('lat').mean('lon'), 'lat', 0.0)"
   ]
  },
  {
   "cell_type": "code",
   "execution_count": 6,
   "metadata": {
    "collapsed": false
   },
   "outputs": [],
   "source": [
    "z = sint.zeros_xray(t5, 'lat', 1000)"
   ]
  },
  {
   "cell_type": "code",
   "execution_count": 11,
   "metadata": {
    "collapsed": false
   },
   "outputs": [
    {
     "data": {
      "text/plain": [
       "<matplotlib.contour.QuadContourSet instance at 0x7fbb7a30c9e0>"
      ]
     },
     "execution_count": 11,
     "metadata": {},
     "output_type": "execute_result"
    },
    {
     "data": {
      "image/png": "[encoded data removed]",
      "text/plain": [
       "<matplotlib.figure.Figure at 0x7fbb7a3de210>"
      ]
     },
     "metadata": {},
     "output_type": "display_data"
    }
   ],
   "source": [
    "plt.contourf(t5[5])"
   ]
  },
  {
   "cell_type": "code",
   "execution_count": 19,
   "metadata": {
    "collapsed": false
   },
   "outputs": [
    {
     "data": {
      "text/plain": [
       "<matplotlib.collections.PolyCollection at 0x7fbb79c1b2d0>"
      ]
     },
     "execution_count": 19,
     "metadata": {},
     "output_type": "execute_result"
    },
    {
     "data": {
      "image/png": "[encoded data removed]",
      "text/plain": [
       "<matplotlib.figure.Figure at 0x7fbb79d6ca50>"
      ]
     },
     "metadata": {},
     "output_type": "display_data"
    }
   ],
   "source": [
    "plt.pcolor(z.lon.values, z.lat.values, z.to_masked_array()[5])\n",
    "plt.pcolor(z2.lon.values, z2.lat.values, z2.to_masked_array()[5])"
   ]
  },
  {
   "cell_type": "code",
   "execution_count": 16,
   "metadata": {
    "collapsed": false
   },
   "outputs": [
    {
     "data": {
      "text/plain": [
       "<matplotlib.collections.PolyCollection at 0x7fbb7a12ed90>"
      ]
     },
     "execution_count": 16,
     "metadata": {},
     "output_type": "execute_result"
    },
    {
     "data": {
      "image/png": "[encoded data removed]",
      "text/plain": [
       "<matplotlib.figure.Figure at 0x7fbb7a2f8390>"
      ]
     },
     "metadata": {},
     "output_type": "display_data"
    }
   ],
   "source": [
    "plt.pcolor(z2.to_masked_array()[5])"
   ]
  },
  {
   "cell_type": "code",
   "execution_count": 15,
   "metadata": {
    "collapsed": true
   },
   "outputs": [],
   "source": [
    "z2 = sint.zeros_xray(t5, 'lon', 1000)"
   ]
  },
  {
   "cell_type": "code",
   "execution_count": 15,
   "metadata": {
    "collapsed": false
   },
   "outputs": [
    {
     "data": {
      "text/plain": [
       "<matplotlib.colorbar.Colorbar instance at 0x7f8b3b81cb90>"
      ]
     },
     "execution_count": 15,
     "metadata": {},
     "output_type": "execute_result"
    },
    {
     "data": {
      "image/png": "[encoded data removed]",
      "text/plain": [
       "<matplotlib.figure.Figure at 0x7f8b39273490>"
      ]
     },
     "metadata": {},
     "output_type": "display_data"
    }
   ],
   "source": [
    "plt.contourf(test.precip - test.precip.mean('lon').mean('lat'))\n",
    "plt.colorbar()"
   ]
  },
  {
   "cell_type": "code",
   "execution_count": 18,
   "metadata": {
    "collapsed": false
   },
   "outputs": [
    {
     "ename": "RuntimeError",
     "evalue": "No such file or directory",
     "output_type": "error",
     "traceback": [
      "\u001b[1;31m---------------------------------------------------------------------------\u001b[0m",
      "\u001b[1;31mRuntimeError\u001b[0m                              Traceback (most recent call last)",
      "\u001b[1;32m<ipython-input-18-0f93036243b1>\u001b[0m in \u001b[0;36m<module>\u001b[1;34m()\u001b[0m\n\u001b[1;32m----> 1\u001b[1;33m \u001b[0mtest2\u001b[0m \u001b[1;33m=\u001b[0m \u001b[0mxray\u001b[0m\u001b[1;33m.\u001b[0m\u001b[0mopen_dataset\u001b[0m\u001b[1;33m(\u001b[0m\u001b[1;34m'/work/skc/itcz/am2_reyoi/am2_HadISST_control/precip/precip.06.ts.from_monthly_ts_pressure.am2_reyoi.am2_HadISST_control.1983-1998.nc'\u001b[0m\u001b[1;33m)\u001b[0m\u001b[1;33m\u001b[0m\u001b[0m\n\u001b[0m",
      "\u001b[1;32m/home/skc/anaconda3/envs/py27/lib/python2.7/site-packages/xray/backends/api.pyc\u001b[0m in \u001b[0;36mopen_dataset\u001b[1;34m(filename_or_obj, group, decode_cf, mask_and_scale, decode_times, concat_characters, decode_coords, engine, chunks, lock, drop_variables)\u001b[0m\n\u001b[0;32m    169\u001b[0m                                              allow_remote=True)\n\u001b[0;32m    170\u001b[0m             \u001b[1;32mif\u001b[0m \u001b[0mengine\u001b[0m \u001b[1;33m==\u001b[0m \u001b[1;34m'netcdf4'\u001b[0m\u001b[1;33m:\u001b[0m\u001b[1;33m\u001b[0m\u001b[0m\n\u001b[1;32m--> 171\u001b[1;33m                 \u001b[0mstore\u001b[0m \u001b[1;33m=\u001b[0m \u001b[0mbackends\u001b[0m\u001b[1;33m.\u001b[0m\u001b[0mNetCDF4DataStore\u001b[0m\u001b[1;33m(\u001b[0m\u001b[0mfilename_or_obj\u001b[0m\u001b[1;33m,\u001b[0m \u001b[0mgroup\u001b[0m\u001b[1;33m=\u001b[0m\u001b[0mgroup\u001b[0m\u001b[1;33m)\u001b[0m\u001b[1;33m\u001b[0m\u001b[0m\n\u001b[0m\u001b[0;32m    172\u001b[0m             \u001b[1;32melif\u001b[0m \u001b[0mengine\u001b[0m \u001b[1;33m==\u001b[0m \u001b[1;34m'scipy'\u001b[0m\u001b[1;33m:\u001b[0m\u001b[1;33m\u001b[0m\u001b[0m\n\u001b[0;32m    173\u001b[0m                 \u001b[0mstore\u001b[0m \u001b[1;33m=\u001b[0m \u001b[0mbackends\u001b[0m\u001b[1;33m.\u001b[0m\u001b[0mScipyDataStore\u001b[0m\u001b[1;33m(\u001b[0m\u001b[0mfilename_or_obj\u001b[0m\u001b[1;33m)\u001b[0m\u001b[1;33m\u001b[0m\u001b[0m\n",
      "\u001b[1;32m/home/skc/anaconda3/envs/py27/lib/python2.7/site-packages/xray/backends/netCDF4_.pyc\u001b[0m in \u001b[0;36m__init__\u001b[1;34m(self, filename, mode, format, group, writer, clobber, diskless, persist)\u001b[0m\n\u001b[0;32m    133\u001b[0m         ds = nc4.Dataset(filename, mode=mode, clobber=clobber,\n\u001b[0;32m    134\u001b[0m                          \u001b[0mdiskless\u001b[0m\u001b[1;33m=\u001b[0m\u001b[0mdiskless\u001b[0m\u001b[1;33m,\u001b[0m \u001b[0mpersist\u001b[0m\u001b[1;33m=\u001b[0m\u001b[0mpersist\u001b[0m\u001b[1;33m,\u001b[0m\u001b[1;33m\u001b[0m\u001b[0m\n\u001b[1;32m--> 135\u001b[1;33m                          format=format)\n\u001b[0m\u001b[0;32m    136\u001b[0m         \u001b[1;32mwith\u001b[0m \u001b[0mclose_on_error\u001b[0m\u001b[1;33m(\u001b[0m\u001b[0mds\u001b[0m\u001b[1;33m)\u001b[0m\u001b[1;33m:\u001b[0m\u001b[1;33m\u001b[0m\u001b[0m\n\u001b[0;32m    137\u001b[0m             \u001b[0mself\u001b[0m\u001b[1;33m.\u001b[0m\u001b[0mds\u001b[0m \u001b[1;33m=\u001b[0m \u001b[0m_nc4_group\u001b[0m\u001b[1;33m(\u001b[0m\u001b[0mds\u001b[0m\u001b[1;33m,\u001b[0m \u001b[0mgroup\u001b[0m\u001b[1;33m,\u001b[0m \u001b[0mmode\u001b[0m\u001b[1;33m)\u001b[0m\u001b[1;33m\u001b[0m\u001b[0m\n",
      "\u001b[1;32mnetCDF4/_netCDF4.pyx\u001b[0m in \u001b[0;36mnetCDF4._netCDF4.Dataset.__init__ (netCDF4/_netCDF4.c:10986)\u001b[1;34m()\u001b[0m\n",
      "\u001b[1;31mRuntimeError\u001b[0m: No such file or directory"
     ]
    }
   ],
   "source": [
    "test2 = xray.open_dataset('/work/skc/itcz/am2_reyoi/am2_HadISST_control/precip/precip.06.ts.from_monthly_ts_pressure.am2_reyoi.am2_HadISST_control.1983-1998.nc')"
   ]
  },
  {
   "cell_type": "code",
   "execution_count": 17,
   "metadata": {
    "collapsed": false
   },
   "outputs": [
    {
     "data": {
      "text/plain": [
       "<xray.Dataset>\n",
       "Dimensions:    (lat: 90, lon: 144)\n",
       "Coordinates:\n",
       "    sfc_area   (lon, lat) float64 2.758e+08 2.206e+09 4.41e+09 6.608e+09 ...\n",
       "  * lon        (lon) float64 1.25 3.75 6.25 8.75 11.25 13.75 16.25 18.75 ...\n",
       "    land_mask  (lat, lon) float64 1.0 1.0 1.0 1.0 1.0 1.0 1.0 1.0 1.0 1.0 ...\n",
       "    zsurf      (lat, lon) float64 2.848e+03 2.848e+03 2.848e+03 2.848e+03 ...\n",
       "  * lat        (lat) float64 -89.49 -87.98 -85.96 -83.93 -81.91 -79.89 ...\n",
       "Data variables:\n",
       "    precip     (lat, lon) float64 1.58e-06 1.58e-06 1.581e-06 1.581e-06 ..."
      ]
     },
     "execution_count": 17,
     "metadata": {},
     "output_type": "execute_result"
    }
   ],
   "source": [
    "test2"
   ]
  },
  {
   "cell_type": "code",
   "execution_count": 29,
   "metadata": {
    "collapsed": false
   },
   "outputs": [],
   "source": [
    "pext = xray.open_dataset('/work/Spencer.Clark/itcz/am2_reyoi/am2_reyoi_tropics_u/precip_extrema_gcm/precip_extrema_gcm.ann.None.from_monthly_ts_pressure.am2_reyoi.am2_reyoi_tropics_u.1983-1998.nc')"
   ]
  },
  {
   "cell_type": "code",
   "execution_count": 32,
   "metadata": {
    "collapsed": false
   },
   "outputs": [
    {
     "data": {
      "text/plain": [
       "<xray.DataArray 'precip_extrema_gcm' (year: 16)>\n",
       "array([ 0.,  0.,  0.,  0.,  0.,  0.,  0.,  0.,  0.,  0.,  0.,  0.,  0.,\n",
       "        0.,  0.,  0.])\n",
       "Coordinates:\n",
       "    lat      float64 -89.49\n",
       "  * year     (year) int32 1983 1984 1985 1986 1987 1988 1989 1990 1991 1992 ..."
      ]
     },
     "execution_count": 32,
     "metadata": {},
     "output_type": "execute_result"
    }
   ],
   "source": [
    "pext.precip_extrema_gcm[0]"
   ]
  },
  {
   "cell_type": "markdown",
   "metadata": {},
   "source": [
    "-------\n",
    "\n",
    "Energy Equator vs. ITCZ\n",
    "----------------------"
   ]
  },
  {
   "cell_type": "code",
   "execution_count": 8,
   "metadata": {
    "collapsed": true
   },
   "outputs": [],
   "source": [
    "paths = {\n",
    "    'Control' : '/work/skc/itcz/am2_reyoi/am2_HadISST_control',\n",
    "    'Extratropics Full' : '/work/skc/itcz/am2_reyoi/am2_reyoi_extratropics_full',\n",
    "    'Extratropics Mean' : '/work/skc/itcz/am2_reyoi/am2_reyoi_extratropics_u',\n",
    "    'Extratropics SP' : '/work/skc/itcz/am2_reyoi/am2_reyoi_extratropics_sp_SI',\n",
    "    'Tropics Full' : '/work/skc/itcz/am2_reyoi/am2_reyoi_tropics_full',\n",
    "    'Tropics Mean' : '/work/skc/itcz/am2_reyoi/am2_reyoi_tropics_u',\n",
    "    'Tropics SP' : '/work/skc/itcz/am2_reyoi/am2_reyoi_tropics_sp_SI',\n",
    "}\n",
    "names = {\n",
    "    'Control' : 'am2_HadISST_control',\n",
    "    'Extratropics Full' : 'am2_reyoi_extratropics_full',\n",
    "    'Extratropics Mean' : 'am2_reyoi_extratropics_u',\n",
    "    'Extratropics SP' : 'am2_reyoi_extratropics_sp_SI',\n",
    "    'Tropics Full' : 'am2_reyoi_tropics_full',\n",
    "    'Tropics Mean' : 'am2_reyoi_tropics_u',\n",
    "    'Tropics SP' : 'am2_reyoi_tropics_sp_SI'\n",
    "}"
   ]
  },
  {
   "cell_type": "code",
   "execution_count": 10,
   "metadata": {
    "collapsed": false
   },
   "outputs": [],
   "source": [
    "aht_gcm = {case: xray.open_dataset('%s/aht_gcm/aht_gcm.ann.av.from_monthly_ts_pressure.am2_reyoi.%s.1983-1998.nc' % (paths[case], names[case])) for case in paths}"
   ]
  },
  {
   "cell_type": "code",
   "execution_count": 34,
   "metadata": {
    "collapsed": false
   },
   "outputs": [],
   "source": [
    "# Find zeros for each case.\n",
    "aht_gcm_zeros = {case: sint.zeros_xray(aht_gcm[case].aht_gcm, 'lat').dropna('lat').sel(lat=slice(-30,30)) for case in aht_gcm}"
   ]
  },
  {
   "cell_type": "code",
   "execution_count": 36,
   "metadata": {
    "collapsed": false
   },
   "outputs": [],
   "source": [
    "aht_gcm_zeros_m = {case: np.deg2rad(aht_gcm_zeros[case])*6.371e6 for case in aht_gcm}"
   ]
  },
  {
   "cell_type": "code",
   "execution_count": 16,
   "metadata": {
    "collapsed": true
   },
   "outputs": [],
   "source": [
    "d_dy_gcm = {case: shn.d_dy_from_lat(aht_gcm[case].aht_gcm, radius=6.371e6, vec_field=False) for case in aht_gcm}"
   ]
  },
  {
   "cell_type": "code",
   "execution_count": 18,
   "metadata": {
    "collapsed": false
   },
   "outputs": [],
   "source": [
    "d_dy_gcm_eq = {case: sint.interp1d_pt_xray(d_dy_gcm[case], 'lat', 0.0) for case in aht_gcm}"
   ]
  },
  {
   "cell_type": "code",
   "execution_count": 19,
   "metadata": {
    "collapsed": true
   },
   "outputs": [],
   "source": [
    "aht_gcm_eq = {case: sint.interp1d_pt_xray(aht_gcm[case].aht_gcm, 'lat', 0.0) for case in aht_gcm}"
   ]
  },
  {
   "cell_type": "code",
   "execution_count": 30,
   "metadata": {
    "collapsed": true
   },
   "outputs": [],
   "source": [
    "d_dy2_gcm = {case: shn.d_dy_from_lat(d_dy_gcm[case], radius=6.371e6, vec_field=False) for case in aht_gcm}"
   ]
  },
  {
   "cell_type": "code",
   "execution_count": 31,
   "metadata": {
    "collapsed": true
   },
   "outputs": [],
   "source": [
    "d_dy2_gcm_eq = {case: sint.interp1d_pt_xray(d_dy2_gcm[case], 'lat', 0.0) for case in aht_gcm}"
   ]
  },
  {
   "cell_type": "code",
   "execution_count": 32,
   "metadata": {
    "collapsed": true
   },
   "outputs": [],
   "source": [
    "d_dy3_gcm = {case: shn.d_dy_from_lat(d_dy2_gcm[case], radius=6.371e6, vec_field=False) for case in aht_gcm}"
   ]
  },
  {
   "cell_type": "code",
   "execution_count": 33,
   "metadata": {
    "collapsed": true
   },
   "outputs": [],
   "source": [
    "d_dy3_gcm_eq = {case: sint.interp1d_pt_xray(d_dy3_gcm[case], 'lat', 0.0) for case in aht_gcm}"
   ]
  },
  {
   "cell_type": "code",
   "execution_count": null,
   "metadata": {
    "collapsed": true
   },
   "outputs": [],
   "source": []
  },
  {
   "cell_type": "code",
   "execution_count": 47,
   "metadata": {
    "collapsed": false
   },
   "outputs": [],
   "source": [
    "# Try expanding out to third order.\n",
    "first_order = {case: aht_gcm_eq[case] + aht_gcm_zeros_m[case]*d_dy_gcm_eq[case] for case in aht_gcm}\n",
    "second_order = {case: first_order[case] + 0.5*d_dy2_gcm_eq[case]*aht_gcm_zeros_m[case]**2 for case in aht_gcm}\n",
    "third_order = {case: second_order[case] + (1./6.)*d_dy3_gcm_eq[case]*aht_gcm_zeros_m[case]**3 for case in aht_gcm}"
   ]
  },
  {
   "cell_type": "code",
   "execution_count": 90,
   "metadata": {
    "collapsed": true
   },
   "outputs": [],
   "source": [
    "# Try expanding out to third order.\n",
    "first_orderQ = {case: aht_gcm_eq[case] + aht_gcm_zeros_m[case]*Q_diff_eq[case] for case in aht_gcm}\n",
    "second_orderQ = {case: first_orderQ[case] + 0.5*d_dy_Q_diff_eq[case]*aht_gcm_zeros_m[case]**2 for case in aht_gcm}\n",
    "third_orderQ = {case: second_orderQ[case] + (1./6.)*d_dy2_Q_diff_eq[case]*aht_gcm_zeros_m[case]**3 for case in aht_gcm}"
   ]
  },
  {
   "cell_type": "code",
   "execution_count": 78,
   "metadata": {
    "collapsed": false
   },
   "outputs": [
    {
     "data": {
      "text/plain": [
       "<xray.DataArray (lat: 1)>\n",
       "array([ 557857.83295104])\n",
       "Coordinates:\n",
       "  * lat      (lat) float64 5.017"
      ]
     },
     "execution_count": 78,
     "metadata": {},
     "output_type": "execute_result"
    }
   ],
   "source": []
  },
  {
   "cell_type": "code",
   "execution_count": 91,
   "metadata": {
    "collapsed": false
   },
   "outputs": [
    {
     "data": {
      "text/plain": [
       "<xray.DataArray (lat: 1)>\n",
       "array([ 1019564.25])\n",
       "Coordinates:\n",
       "  * lat      (lat) float64 5.017"
      ]
     },
     "execution_count": 91,
     "metadata": {},
     "output_type": "execute_result"
    }
   ],
   "source": [
    "third_orderQ['Control'] - second_orderQ['Control']"
   ]
  },
  {
   "cell_type": "code",
   "execution_count": 92,
   "metadata": {
    "collapsed": false
   },
   "outputs": [
    {
     "data": {
      "text/plain": [
       "<xray.DataArray (lat: 1)>\n",
       "array([ 1335419.375])\n",
       "Coordinates:\n",
       "  * lat      (lat) float64 5.017"
      ]
     },
     "execution_count": 92,
     "metadata": {},
     "output_type": "execute_result"
    }
   ],
   "source": [
    "second_orderQ['Control'] - first_orderQ['Control']"
   ]
  },
  {
   "cell_type": "code",
   "execution_count": 93,
   "metadata": {
    "collapsed": false
   },
   "outputs": [
    {
     "data": {
      "text/plain": [
       "<xray.DataArray (lat: 1)>\n",
       "array([-57342970.25])\n",
       "Coordinates:\n",
       "  * lat      (lat) float64 5.017"
      ]
     },
     "execution_count": 93,
     "metadata": {},
     "output_type": "execute_result"
    }
   ],
   "source": [
    "first_orderQ['Control'] - aht_gcm_eq['Control']"
   ]
  },
  {
   "cell_type": "code",
   "execution_count": 70,
   "metadata": {
    "collapsed": false
   },
   "outputs": [
    {
     "data": {
      "text/plain": [
       "<xray.DataArray ()>\n",
       "array(-5.722155426012892)\n",
       "Coordinates:\n",
       "    lat      float64 0.0"
      ]
     },
     "execution_count": 70,
     "metadata": {},
     "output_type": "execute_result"
    }
   ],
   "source": [
    "aht_gcm_eq['Control']/1e14"
   ]
  },
  {
   "cell_type": "code",
   "execution_count": 94,
   "metadata": {
    "collapsed": false
   },
   "outputs": [
    {
     "data": {
      "text/plain": [
       "{'Control': <xray.DataArray (lat: 1)>\n",
       " array([ -5.72215598e+14])\n",
       " Coordinates:\n",
       "   * lat      (lat) float64 5.017,\n",
       " 'Extratropics Full': <xray.DataArray (lat: 1)>\n",
       " array([ -3.21478153e+14])\n",
       " Coordinates:\n",
       "   * lat      (lat) float64 3.505,\n",
       " 'Extratropics Mean': <xray.DataArray (lat: 1)>\n",
       " array([ -4.93031963e+14])\n",
       " Coordinates:\n",
       "   * lat      (lat) float64 4.778,\n",
       " 'Extratropics SP': <xray.DataArray (lat: 1)>\n",
       " array([ -3.29291886e+14])\n",
       " Coordinates:\n",
       "   * lat      (lat) float64 3.575,\n",
       " 'Tropics Full': <xray.DataArray (lat: 1)>\n",
       " array([ -3.86212018e+14])\n",
       " Coordinates:\n",
       "   * lat      (lat) float64 4.162,\n",
       " 'Tropics Mean': <xray.DataArray (lat: 1)>\n",
       " array([ -4.81022990e+14])\n",
       " Coordinates:\n",
       "   * lat      (lat) float64 4.689,\n",
       " 'Tropics SP': <xray.DataArray (lat: 1)>\n",
       " array([ -4.10241919e+14])\n",
       " Coordinates:\n",
       "   * lat      (lat) float64 4.331}"
      ]
     },
     "execution_count": 94,
     "metadata": {},
     "output_type": "execute_result"
    }
   ],
   "source": [
    "third_orderQ"
   ]
  },
  {
   "cell_type": "code",
   "execution_count": 80,
   "metadata": {
    "collapsed": true
   },
   "outputs": [],
   "source": [
    "S_net = {case: xray.open_dataset('%s/S_net/S_net.ann.av.from_monthly_ts_pressure.am2_reyoi.%s.1983-1998.nc' % (paths[case], names[case])).mean('lon') for case in paths}\n",
    "L_net = {case: xray.open_dataset('%s/L_net/L_net.ann.av.from_monthly_ts_pressure.am2_reyoi.%s.1983-1998.nc' % (paths[case], names[case])).mean('lon') for case in paths}"
   ]
  },
  {
   "cell_type": "code",
   "execution_count": 82,
   "metadata": {
    "collapsed": false
   },
   "outputs": [],
   "source": [
    "Q_diff = {case: S_net[case].S_net + L_net[case].L_net for case in aht_gcm}"
   ]
  },
  {
   "cell_type": "code",
   "execution_count": 50,
   "metadata": {
    "collapsed": true
   },
   "outputs": [],
   "source": [
    "Q_diff = {case: xray.open_dataset('%s/Q_diff/Q_diff.ann.av.from_monthly_ts_pressure.am2_reyoi.%s.1983-1998.nc' % (paths[case], names[case])).mean('lon') for case in paths}"
   ]
  },
  {
   "cell_type": "code",
   "execution_count": 84,
   "metadata": {
    "collapsed": false
   },
   "outputs": [],
   "source": [
    "Q_diff_eq = {case: sint.interp1d_pt_xray(Q_diff[case], 'lat', 0.0) for case in aht_gcm}"
   ]
  },
  {
   "cell_type": "code",
   "execution_count": 85,
   "metadata": {
    "collapsed": false
   },
   "outputs": [],
   "source": [
    "d_dy_Q_diff = {case: shn.d_dy_from_lat(Q_diff[case], radius=6.371e6, vec_field=False) for case in aht_gcm}"
   ]
  },
  {
   "cell_type": "code",
   "execution_count": 86,
   "metadata": {
    "collapsed": true
   },
   "outputs": [],
   "source": [
    "d_dy_Q_diff_eq = {case: sint.interp1d_pt_xray(d_dy_Q_diff[case], 'lat', 0.0) for case in aht_gcm}"
   ]
  },
  {
   "cell_type": "code",
   "execution_count": 87,
   "metadata": {
    "collapsed": true
   },
   "outputs": [],
   "source": [
    "d_dy2_Q_diff = {case: shn.d_dy_from_lat(d_dy_Q_diff[case], radius=6.371e6, vec_field=False) for case in aht_gcm}"
   ]
  },
  {
   "cell_type": "code",
   "execution_count": 88,
   "metadata": {
    "collapsed": true
   },
   "outputs": [],
   "source": [
    "d_dy2_Q_diff_eq = {case: sint.interp1d_pt_xray(d_dy2_Q_diff[case], 'lat', 0.0) for case in aht_gcm}"
   ]
  },
  {
   "cell_type": "code",
   "execution_count": 89,
   "metadata": {
    "collapsed": false
   },
   "outputs": [],
   "source": [
    "d_dy3_Q_diff = {case: shn.d_dy_from_lat(d_dy2_Q_diff[case], radius=6.371e6, vec_field=False) for case in aht_gcm}\n",
    "d_dy3_Q_diff_eq = {case: sint.interp1d_pt_xray(d_dy3_Q_diff[case], 'lat', 0.0) for case in aht_gcm}"
   ]
  },
  {
   "cell_type": "code",
   "execution_count": null,
   "metadata": {
    "collapsed": true
   },
   "outputs": [],
   "source": [
    "third_orderQ = {case: second_orderQ[case] + (1./6.)*d_dy2_Q_diff_eq[case]*aht_gcm_zeros_m[case]**3 for case in aht_gcm}"
   ]
  },
  {
   "cell_type": "code",
   "execution_count": 59,
   "metadata": {
    "collapsed": true
   },
   "outputs": [],
   "source": [
    "def low_net(mv, d2, net):\n",
    "    a = 6.371e6\n",
    "    q = (-6.*mv/d2)\n",
    "    return (1./a)*q**(1./3.) - ((2*net/d2)*q**(-2./3.))"
   ]
  },
  {
   "cell_type": "code",
   "execution_count": null,
   "metadata": {
    "collapsed": true
   },
   "outputs": [],
   "source": []
  },
  {
   "cell_type": "code",
   "execution_count": 61,
   "metadata": {
    "collapsed": false
   },
   "outputs": [],
   "source": [
    "tob = {case: low_net(aht_gcm_eq[case], d_dy2_Q_diff_eq[case], Q_diff_eq[case]) for case in aht_gcm}"
   ]
  },
  {
   "cell_type": "code",
   "execution_count": 62,
   "metadata": {
    "collapsed": false
   },
   "outputs": [
    {
     "data": {
      "text/plain": [
       "{'Control': <xray.DataArray ()>\n",
       " array(45.348624802850324)\n",
       " Coordinates:\n",
       "     lat      float64 0.0, 'Extratropics Full': <xray.DataArray ()>\n",
       " array(37.182528525421844)\n",
       " Coordinates:\n",
       "     lat      float64 0.0, 'Extratropics Mean': <xray.DataArray ()>\n",
       " array(43.08126905542176)\n",
       " Coordinates:\n",
       "     lat      float64 0.0, 'Extratropics SP': <xray.DataArray ()>\n",
       " array(36.908491859060355)\n",
       " Coordinates:\n",
       "     lat      float64 0.0, 'Tropics Full': <xray.DataArray ()>\n",
       " array(39.47177331813684)\n",
       " Coordinates:\n",
       "     lat      float64 0.0, 'Tropics Mean': <xray.DataArray ()>\n",
       " array(43.0387078253243)\n",
       " Coordinates:\n",
       "     lat      float64 0.0, 'Tropics SP': <xray.DataArray ()>\n",
       " array(39.691946736873525)\n",
       " Coordinates:\n",
       "     lat      float64 0.0}"
      ]
     },
     "execution_count": 62,
     "metadata": {},
     "output_type": "execute_result"
    }
   ],
   "source": [
    "tob"
   ]
  },
  {
   "cell_type": "code",
   "execution_count": 46,
   "metadata": {
    "collapsed": false
   },
   "outputs": [
    {
     "data": {
      "text/plain": [
       "{'Control': <xray.DataArray (lat: 1)>\n",
       " array([ -1.49172120e+14])\n",
       " Coordinates:\n",
       "   * lat      (lat) float64 5.017,\n",
       " 'Extratropics Full': <xray.DataArray (lat: 1)>\n",
       " array([ -4.00030797e+13])\n",
       " Coordinates:\n",
       "   * lat      (lat) float64 3.505,\n",
       " 'Extratropics Mean': <xray.DataArray (lat: 1)>\n",
       " array([ -1.30875949e+14])\n",
       " Coordinates:\n",
       "   * lat      (lat) float64 4.778,\n",
       " 'Extratropics SP': <xray.DataArray (lat: 1)>\n",
       " array([ -4.83592557e+13])\n",
       " Coordinates:\n",
       "   * lat      (lat) float64 3.575,\n",
       " 'Tropics Full': <xray.DataArray (lat: 1)>\n",
       " array([ -8.74444826e+13])\n",
       " Coordinates:\n",
       "   * lat      (lat) float64 4.162,\n",
       " 'Tropics Mean': <xray.DataArray (lat: 1)>\n",
       " array([ -1.22612870e+14])\n",
       " Coordinates:\n",
       "   * lat      (lat) float64 4.689,\n",
       " 'Tropics SP': <xray.DataArray (lat: 1)>\n",
       " array([ -1.04564828e+14])\n",
       " Coordinates:\n",
       "   * lat      (lat) float64 4.331}"
      ]
     },
     "execution_count": 46,
     "metadata": {},
     "output_type": "execute_result"
    }
   ],
   "source": [
    "second_order"
   ]
  },
  {
   "cell_type": "code",
   "execution_count": 27,
   "metadata": {
    "collapsed": true
   },
   "outputs": [],
   "source": [
    "thermal_eq = {case: np.rad2deg(-1. * aht_gcm_eq[case] / (d_dy_gcm_eq[case] * 6.371e6)) for case in aht_gcm}"
   ]
  },
  {
   "cell_type": "code",
   "execution_count": 29,
   "metadata": {
    "collapsed": false
   },
   "outputs": [
    {
     "name": "stdout",
     "output_type": "stream",
     "text": [
      "{'Control': <xray.DataArray (lat: 2)>\n",
      "array([-89.49438202,   5.01693602])\n",
      "Coordinates:\n",
      "  * lat      (lat) float64 -89.49 5.017, 'Extratropics Full': <xray.DataArray (lat: 2)>\n",
      "array([-89.49438202,   3.50539137])\n",
      "Coordinates:\n",
      "  * lat      (lat) float64 -89.49 3.505, 'Tropics SP': <xray.DataArray (lat: 2)>\n",
      "array([-89.49438202,   4.33077431])\n",
      "Coordinates:\n",
      "  * lat      (lat) float64 -89.49 4.331, 'Tropics Full': <xray.DataArray (lat: 2)>\n",
      "array([-89.49438202,   4.16171997])\n",
      "Coordinates:\n",
      "  * lat      (lat) float64 -89.49 4.162, 'Extratropics SP': <xray.DataArray (lat: 2)>\n",
      "array([-89.49438202,   3.57500198])\n",
      "Coordinates:\n",
      "  * lat      (lat) float64 -89.49 3.575, 'Extratropics Mean': <xray.DataArray (lat: 2)>\n",
      "array([-89.49438202,   4.77827108])\n",
      "Coordinates:\n",
      "  * lat      (lat) float64 -89.49 4.778, 'Tropics Mean': <xray.DataArray (lat: 2)>\n",
      "array([-89.49438202,   4.68877172])\n",
      "Coordinates:\n",
      "  * lat      (lat) float64 -89.49 4.689}\n"
     ]
    }
   ],
   "source": [
    "print aht_gcm_zeros"
   ]
  },
  {
   "cell_type": "code",
   "execution_count": 28,
   "metadata": {
    "collapsed": false
   },
   "outputs": [
    {
     "name": "stdout",
     "output_type": "stream",
     "text": [
      "{'Control': <xray.DataArray ()>\n",
      "array(7.107430267268289)\n",
      "Coordinates:\n",
      "    lat      float64 0.0, 'Extratropics Full': <xray.DataArray ()>\n",
      "array(3.8685712166975437)\n",
      "Coordinates:\n",
      "    lat      float64 0.0, 'Tropics SP': <xray.DataArray ()>\n",
      "array(5.659364311167946)\n",
      "Coordinates:\n",
      "    lat      float64 0.0, 'Tropics Full': <xray.DataArray ()>\n",
      "array(5.145490419401718)\n",
      "Coordinates:\n",
      "    lat      float64 0.0, 'Extratropics SP': <xray.DataArray ()>\n",
      "array(4.075740032368086)\n",
      "Coordinates:\n",
      "    lat      float64 0.0, 'Extratropics Mean': <xray.DataArray ()>\n",
      "array(6.425089751488746)\n",
      "Coordinates:\n",
      "    lat      float64 0.0, 'Tropics Mean': <xray.DataArray ()>\n",
      "array(6.209002499011119)\n",
      "Coordinates:\n",
      "    lat      float64 0.0}\n"
     ]
    }
   ],
   "source": [
    "print thermal_eq"
   ]
  },
  {
   "cell_type": "code",
   "execution_count": null,
   "metadata": {
    "collapsed": true
   },
   "outputs": [],
   "source": []
  },
  {
   "cell_type": "code",
   "execution_count": 25,
   "metadata": {
    "collapsed": false
   },
   "outputs": [
    {
     "data": {
      "text/plain": [
       "7.10828025477707"
      ]
     },
     "execution_count": 25,
     "metadata": {},
     "output_type": "execute_result"
    }
   ],
   "source": [
    "0.124*180./3.14"
   ]
  },
  {
   "cell_type": "code",
   "execution_count": null,
   "metadata": {
    "collapsed": true
   },
   "outputs": [],
   "source": []
  }
 ],
 "metadata": {
  "kernelspec": {
   "display_name": "Python 2",
   "language": "python",
   "name": "python2"
  },
  "language_info": {
   "codemirror_mode": {
    "name": "ipython",
    "version": 2
   },
   "file_extension": ".py",
   "mimetype": "text/x-python",
   "name": "python",
   "nbconvert_exporter": "python",
   "pygments_lexer": "ipython2",
   "version": "2.7.10"
  }
 },
 "nbformat": 4,
 "nbformat_minor": 0
}
