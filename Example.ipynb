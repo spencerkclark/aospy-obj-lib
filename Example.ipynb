{
 "cells": [
  {
   "cell_type": "code",
   "execution_count": 139,
   "metadata": {
    "collapsed": true
   },
   "outputs": [],
   "source": [
    "import xarray as xr\n",
    "import numpy as np"
   ]
  },
  {
   "cell_type": "code",
   "execution_count": 140,
   "metadata": {
    "collapsed": true
   },
   "outputs": [],
   "source": [
    "a = xr.DataArray(np.random.randint(1, 10, size=3), dims=['x'], coords=[np.arange(3)])\n",
    "b = xr.DataArray(np.random.randint(1, 10, size=2), dims=['y'], coords=[np.arange(2)])\n",
    "c = xr.DataArray(np.random.randint(1, 10, size=2), dims=['z'], coords=[np.arange(2)])\n",
    "i = xr.DataArray(np.random.randint(1, 3, 10), dims=['i'], coords=[np.arange(10)])"
   ]
  },
  {
   "cell_type": "code",
   "execution_count": 141,
   "metadata": {
    "collapsed": false
   },
   "outputs": [],
   "source": [
    "d = a * b * i * c"
   ]
  },
  {
   "cell_type": "code",
   "execution_count": 142,
   "metadata": {
    "collapsed": false
   },
   "outputs": [],
   "source": [
    "e = xr.DataArray(np.random.randint(1, 10, size=3), dims=['x'], coords=[np.arange(3)])\n",
    "f = xr.DataArray(np.random.randint(1, 10, size=2), dims=['y'], coords=[np.arange(2)])\n",
    "g = xr.DataArray(np.random.randint(1, 10, size=2), dims=['z'], coords=[np.arange(2)])"
   ]
  },
  {
   "cell_type": "code",
   "execution_count": 143,
   "metadata": {
    "collapsed": false
   },
   "outputs": [],
   "source": [
    "h = e * g * f"
   ]
  },
  {
   "cell_type": "code",
   "execution_count": 144,
   "metadata": {
    "collapsed": false
   },
   "outputs": [
    {
     "data": {
      "text/plain": [
       "<xarray.DataArray (x: 3, z: 2, y: 2)>\n",
       "array([[[160, 160],\n",
       "        [ 20,  20]],\n",
       "\n",
       "       [[320, 320],\n",
       "        [ 40,  40]],\n",
       "\n",
       "       [[ 40,  40],\n",
       "        [  5,   5]]])\n",
       "Coordinates:\n",
       "  * x        (x) int64 0 1 2\n",
       "  * z        (z) int64 0 1\n",
       "  * y        (y) int64 0 1"
      ]
     },
     "execution_count": 144,
     "metadata": {},
     "output_type": "execute_result"
    }
   ],
   "source": [
    "h"
   ]
  },
  {
   "cell_type": "code",
   "execution_count": 145,
   "metadata": {
    "collapsed": false
   },
   "outputs": [
    {
     "name": "stdout",
     "output_type": "stream",
     "text": [
      "<xarray.DataArray (x: 3, y: 2, z: 2)>\n",
      "array([[[  2.41920000e+04,   1.34400000e+03],\n",
      "        [  9.67680000e+04,   5.37600000e+03]],\n",
      "\n",
      "       [[  4.83840000e+04,   2.68800000e+03],\n",
      "        [  1.93536000e+05,   1.07520000e+04]],\n",
      "\n",
      "       [[  1.00800000e+03,   5.60000000e+01],\n",
      "        [  4.03200000e+03,   2.24000000e+02]]])\n",
      "Coordinates:\n",
      "  * x        (x) int64 0 1 2\n",
      "  * y        (y) int64 0 1\n",
      "  * z        (z) int64 0 1\n"
     ]
    }
   ],
   "source": [
    "test = (d).mean('i') * h\n",
    "print test"
   ]
  },
  {
   "cell_type": "code",
   "execution_count": 148,
   "metadata": {
    "collapsed": false
   },
   "outputs": [
    {
     "data": {
      "text/plain": [
       "<xarray.DataArray (x: 3, y: 2, z: 2)>\n",
       "array([[[  2.41920000e+04,   1.34400000e+03],\n",
       "        [  1.20960000e+05,   6.72000000e+03]],\n",
       "\n",
       "       [[  4.83840000e+04,   2.68800000e+03],\n",
       "        [  2.41920000e+05,   1.34400000e+04]],\n",
       "\n",
       "       [[  1.00800000e+03,   5.60000000e+01],\n",
       "        [  5.04000000e+03,   2.80000000e+02]]])\n",
       "Coordinates:\n",
       "  * x        (x) int64 0 1 2\n",
       "  * y        (y) int64 0 1\n",
       "  * z        (z) int64 0 1"
      ]
     },
     "execution_count": 148,
     "metadata": {},
     "output_type": "execute_result"
    }
   ],
   "source": [
    "np.cumsum(test, axis=test.get_axis_num('y'))"
   ]
  },
  {
   "cell_type": "code",
   "execution_count": 149,
   "metadata": {
    "collapsed": false
   },
   "outputs": [
    {
     "data": {
      "text/plain": [
       "array([[[  2.41920000e+04,   1.34400000e+03],\n",
       "        [  1.20960000e+05,   6.72000000e+03]],\n",
       "\n",
       "       [[  4.83840000e+04,   2.68800000e+03],\n",
       "        [  2.41920000e+05,   1.34400000e+04]],\n",
       "\n",
       "       [[  1.00800000e+03,   5.60000000e+01],\n",
       "        [  5.04000000e+03,   2.80000000e+02]]])"
      ]
     },
     "execution_count": 149,
     "metadata": {},
     "output_type": "execute_result"
    }
   ],
   "source": [
    "np.cumsum(test.values, axis=test.get_axis_num('y'))"
   ]
  },
  {
   "cell_type": "code",
   "execution_count": 150,
   "metadata": {
    "collapsed": true
   },
   "outputs": [],
   "source": [
    "test_ = test.copy(deep=True)\n",
    "for k in range(2):\n",
    "    test_[{'y': k}] = test.isel(y=slice(None, k + 1)).sum('y')\n",
    "print test_"
   ]
  },
  {
   "cell_type": "code",
   "execution_count": 154,
   "metadata": {
    "collapsed": false
   },
   "outputs": [
    {
     "name": "stdout",
     "output_type": "stream",
     "text": [
      "<xarray.DataArray (x: 3, y: 2, z: 2)>\n",
      "array([[[  2.41920000e+04,   1.34400000e+03],\n",
      "        [  1.20960000e+05,   6.72000000e+03]],\n",
      "\n",
      "       [[  4.83840000e+04,   2.68800000e+03],\n",
      "        [  2.41920000e+05,   1.34400000e+04]],\n",
      "\n",
      "       [[  1.00800000e+03,   5.60000000e+01],\n",
      "        [  5.04000000e+03,   2.80000000e+02]]])\n",
      "Coordinates:\n",
      "  * x        (x) int64 0 1 2\n",
      "  * y        (y) int64 0 1\n",
      "  * z        (z) int64 0 1\n"
     ]
    }
   ],
   "source": [
    "test_ = test.copy(deep=True)\n",
    "test_ = test_.transpose('y', 'x', 'z')\n",
    "for k in range(2):\n",
    "    test_[{'y': k}] = test.isel(y=slice(None, k + 1)).sum('y')\n",
    "print test_.transpose('x', 'y', 'z')"
   ]
  },
  {
   "cell_type": "code",
   "execution_count": 156,
   "metadata": {
    "collapsed": false
   },
   "outputs": [
    {
     "name": "stdout",
     "output_type": "stream",
     "text": [
      "<xarray.DataArray (x: 3, y: 2, z: 2)>\n",
      "array([[[  2.41920000e+04,   1.34400000e+03],\n",
      "        [  1.20960000e+05,   6.72000000e+03]],\n",
      "\n",
      "       [[  4.83840000e+04,   2.68800000e+03],\n",
      "        [  2.41920000e+05,   1.34400000e+04]],\n",
      "\n",
      "       [[  1.00800000e+03,   5.60000000e+01],\n",
      "        [  5.04000000e+03,   2.80000000e+02]]])\n",
      "Coordinates:\n",
      "  * x        (x) int64 0 1 2\n",
      "  * y        (y) int64 0 1\n",
      "  * z        (z) int64 0 1\n"
     ]
    }
   ],
   "source": [
    "test_ = test.copy(deep=True)\n",
    "test_ = test_.transpose('x', 'z', 'y')\n",
    "for k in range(2):\n",
    "    test_[{'y': k}] = test.isel(y=slice(None, k + 1)).sum('y')\n",
    "print test_.transpose('x', 'y', 'z')"
   ]
  },
  {
   "cell_type": "code",
   "execution_count": 168,
   "metadata": {
    "collapsed": false
   },
   "outputs": [
    {
     "name": "stdout",
     "output_type": "stream",
     "text": [
      "<xarray.DataArray (x: 3, y: 2, z: 2)>\n",
      "array([[[  2.41920000e+04,   1.34400000e+03],\n",
      "        [  1.20960000e+05,   6.72000000e+03]],\n",
      "\n",
      "       [[  4.83840000e+04,   2.68800000e+03],\n",
      "        [  2.41920000e+05,   1.34400000e+04]],\n",
      "\n",
      "       [[  1.00800000e+03,   5.60000000e+01],\n",
      "        [  5.04000000e+03,   2.80000000e+02]]])\n",
      "Coordinates:\n",
      "  * x        (x) int64 0 1 2\n",
      "  * y        (y) int64 0 1\n",
      "  * z        (z) int64 0 1\n"
     ]
    }
   ],
   "source": [
    "test_ = test.copy(deep=True)\n",
    "test_ = test_.transpose('z', 'x', 'y')\n",
    "for k in range(2):\n",
    "    ignore, assign = xr.broadcast(test_[{'y': k}], test.isel(y=slice(None, k + 1)).sum('y'))\n",
    "    test_[{'y': k}] = assign\n",
    "    #test_[{'y': k}] = test.isel(y=slice(None, k + 1)).sum('y') # Throws exception (should this, or should it broadcast automatically?)\n",
    "print test_.transpose('x', 'y', 'z')"
   ]
  }
 ],
 "metadata": {
  "kernelspec": {
   "display_name": "Python 2",
   "language": "python",
   "name": "python2"
  },
  "language_info": {
   "codemirror_mode": {
    "name": "ipython",
    "version": 2
   },
   "file_extension": ".py",
   "mimetype": "text/x-python",
   "name": "python",
   "nbconvert_exporter": "python",
   "pygments_lexer": "ipython2",
   "version": "2.7.11"
  }
 },
 "nbformat": 4,
 "nbformat_minor": 0
}
